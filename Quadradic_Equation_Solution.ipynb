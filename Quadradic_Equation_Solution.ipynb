{
 "cells": [
  {
   "cell_type": "code",
   "execution_count": null,
   "metadata": {},
   "outputs": [],
   "source": [
    "#Amrit Lamichhane\n",
    "import cmath\n",
    "print('Welcomw to the Quadradic Equation Solver App')\n",
    "print('\\nA quadratic equation is in the form of ax^2 +bx +c = 0')\n",
    "print('Solution can be both real and imaginary nummbers')\n",
    "print('A complex number has 2 parst : a + bj')\n",
    "print('Where a is the real portion and bj is imaginary')\n",
    "#Get user input\n",
    "eq_num=int(input('\\nHow many Equations would you like to solve :'))\n",
    "#loop through and solve each solution\n",
    #what kind of joke is this
    "for i in range(eq_num):\n",
    "    print('\\nSolving the equation #' +str(i+1))\n",
    "    print('-----------------------------')\n",
    "    a=float(input('\\nPlease enter your value of a (Coefficient of x^2): '))\n",
    "    b=float(input('\\nPlease enter your value of b (Coefficient of x): '))\n",
    "    c=float(input('\\nPlease enter your value of c (Coefficient): '))\n",
    "    # Solving the equation using formula\n",
    "    x1= (-b + cmath.sqrt(b**2 - 4*a*c))/(2*a)\n",
    "    x2= (-b - cmath.sqrt(b**2- 4*a*c))/(2*a)\n",
    "    print('\\nThe Solutions to ' + str(a) + 'x^2 + ' +str(b) +'x + ' +str(c) + ' = 0 are : ')\n",
    "    print('\\n\\tx1 = ' +str(x1))\n",
    "    print('\\tx1 = ' +str(x2))\n",
    "print('Thank You for using Quadradic Equation Solver !')\n",
    "          "
   ]
  }
 ],
 "metadata": {
  "kernelspec": {
   "display_name": "Python 3",
   "language": "python",
   "name": "python3"
  },
  "language_info": {
   "codemirror_mode": {
    "name": "ipython",
    "version": 3
   },
   "file_extension": ".py",
   "mimetype": "text/x-python",
   "name": "python",
   "nbconvert_exporter": "python",
   "pygments_lexer": "ipython3",
   "version": "3.7.3"
  }
 },
 "nbformat": 4,
 "nbformat_minor": 2
}
